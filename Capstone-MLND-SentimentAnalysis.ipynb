{
 "cells": [
  {
   "cell_type": "code",
   "execution_count": 2,
   "metadata": {},
   "outputs": [],
   "source": [
    "import pandas as pd\n",
    "import numpy as np\n",
    "import matplotlib.pyplot as plt\n",
    "import seaborn as sns\n",
    "import nltk\n",
    "from nltk import word_tokenize\n",
    "from collections import Counter\n",
    "from sklearn.feature_extraction.text import CountVectorizer, TfidfVectorizer\n",
    "from sklearn.model_selection import train_test_split\n",
    "from sklearn.metrics import accuracy_score, f1_score\n",
    "from keras.preprocessing import text, sequence\n",
    "from keras.utils import to_categorical\n",
    "from keras.models import Sequential, Input, Model\n",
    "from keras.layers import Dense, Dropout, Flatten, Embedding, SpatialDropout1D, LSTM, BatchNormalization\n",
    "\n",
    "from time import time\n",
    "\n",
    "from sklearn.linear_model import LogisticRegression\n",
    "from sklearn.svm import LinearSVC\n",
    "from sklearn.naive_bayes import MultinomialNB\n",
    "from sklearn.ensemble import RandomForestClassifier\n",
    "\n",
    "%matplotlib inline"
   ]
  },
  {
   "cell_type": "code",
   "execution_count": 3,
   "metadata": {},
   "outputs": [
    {
     "data": {
      "text/html": [
       "<div>\n",
       "<style scoped>\n",
       "    .dataframe tbody tr th:only-of-type {\n",
       "        vertical-align: middle;\n",
       "    }\n",
       "\n",
       "    .dataframe tbody tr th {\n",
       "        vertical-align: top;\n",
       "    }\n",
       "\n",
       "    .dataframe thead th {\n",
       "        text-align: right;\n",
       "    }\n",
       "</style>\n",
       "<table border=\"1\" class=\"dataframe\">\n",
       "  <thead>\n",
       "    <tr style=\"text-align: right;\">\n",
       "      <th></th>\n",
       "      <th>PhraseId</th>\n",
       "      <th>SentenceId</th>\n",
       "      <th>Phrase</th>\n",
       "      <th>Sentiment</th>\n",
       "    </tr>\n",
       "  </thead>\n",
       "  <tbody>\n",
       "    <tr>\n",
       "      <th>0</th>\n",
       "      <td>1</td>\n",
       "      <td>1</td>\n",
       "      <td>A series of escapades demonstrating the adage ...</td>\n",
       "      <td>1</td>\n",
       "    </tr>\n",
       "    <tr>\n",
       "      <th>1</th>\n",
       "      <td>2</td>\n",
       "      <td>1</td>\n",
       "      <td>A series of escapades demonstrating the adage ...</td>\n",
       "      <td>2</td>\n",
       "    </tr>\n",
       "    <tr>\n",
       "      <th>2</th>\n",
       "      <td>3</td>\n",
       "      <td>1</td>\n",
       "      <td>A series</td>\n",
       "      <td>2</td>\n",
       "    </tr>\n",
       "    <tr>\n",
       "      <th>3</th>\n",
       "      <td>4</td>\n",
       "      <td>1</td>\n",
       "      <td>A</td>\n",
       "      <td>2</td>\n",
       "    </tr>\n",
       "    <tr>\n",
       "      <th>4</th>\n",
       "      <td>5</td>\n",
       "      <td>1</td>\n",
       "      <td>series</td>\n",
       "      <td>2</td>\n",
       "    </tr>\n",
       "  </tbody>\n",
       "</table>\n",
       "</div>"
      ],
      "text/plain": [
       "   PhraseId  SentenceId                                             Phrase  \\\n",
       "0         1           1  A series of escapades demonstrating the adage ...   \n",
       "1         2           1  A series of escapades demonstrating the adage ...   \n",
       "2         3           1                                           A series   \n",
       "3         4           1                                                  A   \n",
       "4         5           1                                             series   \n",
       "\n",
       "   Sentiment  \n",
       "0          1  \n",
       "1          2  \n",
       "2          2  \n",
       "3          2  \n",
       "4          2  "
      ]
     },
     "execution_count": 3,
     "metadata": {},
     "output_type": "execute_result"
    }
   ],
   "source": [
    "#load and examine the data\n",
    "data=pd.read_csv('all/train.tsv',  sep=\"\\t\")\n",
    "data.head()"
   ]
  },
  {
   "cell_type": "code",
   "execution_count": 4,
   "metadata": {},
   "outputs": [
    {
     "data": {
      "text/plain": [
       "(156060, 4)"
      ]
     },
     "execution_count": 4,
     "metadata": {},
     "output_type": "execute_result"
    }
   ],
   "source": [
    "data.shape"
   ]
  },
  {
   "cell_type": "code",
   "execution_count": 5,
   "metadata": {},
   "outputs": [
    {
     "data": {
      "text/plain": [
       "5"
      ]
     },
     "execution_count": 5,
     "metadata": {},
     "output_type": "execute_result"
    }
   ],
   "source": [
    "data['Sentiment'].nunique()"
   ]
  },
  {
   "cell_type": "markdown",
   "metadata": {},
   "source": [
    "## Data Analysis\n",
    "Looking at the data, multiple phrases are generated from a single sentence. \n",
    "There are 5 unique output classes or values for sentiments. They correspond to the values:<br>0 - negative<br>1 - somewhat negative<br>2 - neutral<br>3 - somewhat positive<br>4 - positive"
   ]
  },
  {
   "cell_type": "code",
   "execution_count": 6,
   "metadata": {},
   "outputs": [
    {
     "name": "stdout",
     "output_type": "stream",
     "text": [
      "Total Number of Samples(Phrases) = 156060\n",
      "Total Number of Sentences = 8529\n"
     ]
    },
    {
     "data": {
      "text/plain": [
       "0     7072\n",
       "1    27273\n",
       "2    79582\n",
       "3    32927\n",
       "4     9206\n",
       "Name: Sentiment, dtype: int64"
      ]
     },
     "execution_count": 6,
     "metadata": {},
     "output_type": "execute_result"
    }
   ],
   "source": [
    "print(\"Total Number of Samples(Phrases) = {}\".format(data.shape[0]))\n",
    "print(\"Total Number of Sentences = {}\".format(len(data['SentenceId'].unique())))\n",
    "data[\"Sentiment\"].value_counts(sort=False)"
   ]
  },
  {
   "cell_type": "markdown",
   "metadata": {},
   "source": [
    "As can be seen more phrases are neutral(sentiment 2), followed by somewhat positive or negative (sentiment 1 or 3). Much fewer are strictly positive or negative (sentiment 0 or 4) which makes the job of classification much more difficult. \n",
    "\n",
    "Looking at Phrases:\n"
   ]
  },
  {
   "cell_type": "code",
   "execution_count": 7,
   "metadata": {},
   "outputs": [
    {
     "data": {
      "text/html": [
       "<div>\n",
       "<style scoped>\n",
       "    .dataframe tbody tr th:only-of-type {\n",
       "        vertical-align: middle;\n",
       "    }\n",
       "\n",
       "    .dataframe tbody tr th {\n",
       "        vertical-align: top;\n",
       "    }\n",
       "\n",
       "    .dataframe thead th {\n",
       "        text-align: right;\n",
       "    }\n",
       "</style>\n",
       "<table border=\"1\" class=\"dataframe\">\n",
       "  <thead>\n",
       "    <tr style=\"text-align: right;\">\n",
       "      <th></th>\n",
       "      <th>PhraseId</th>\n",
       "      <th>SentenceId</th>\n",
       "      <th>Phrase</th>\n",
       "      <th>Sentiment</th>\n",
       "      <th>Phrase_words</th>\n",
       "    </tr>\n",
       "  </thead>\n",
       "  <tbody>\n",
       "    <tr>\n",
       "      <th>0</th>\n",
       "      <td>1</td>\n",
       "      <td>1</td>\n",
       "      <td>A series of escapades demonstrating the adage ...</td>\n",
       "      <td>1</td>\n",
       "      <td>[A, series, of, escapades, demonstrating, the,...</td>\n",
       "    </tr>\n",
       "    <tr>\n",
       "      <th>1</th>\n",
       "      <td>2</td>\n",
       "      <td>1</td>\n",
       "      <td>A series of escapades demonstrating the adage ...</td>\n",
       "      <td>2</td>\n",
       "      <td>[A, series, of, escapades, demonstrating, the,...</td>\n",
       "    </tr>\n",
       "    <tr>\n",
       "      <th>2</th>\n",
       "      <td>3</td>\n",
       "      <td>1</td>\n",
       "      <td>A series</td>\n",
       "      <td>2</td>\n",
       "      <td>[A, series]</td>\n",
       "    </tr>\n",
       "    <tr>\n",
       "      <th>3</th>\n",
       "      <td>4</td>\n",
       "      <td>1</td>\n",
       "      <td>A</td>\n",
       "      <td>2</td>\n",
       "      <td>[A]</td>\n",
       "    </tr>\n",
       "    <tr>\n",
       "      <th>4</th>\n",
       "      <td>5</td>\n",
       "      <td>1</td>\n",
       "      <td>series</td>\n",
       "      <td>2</td>\n",
       "      <td>[series]</td>\n",
       "    </tr>\n",
       "  </tbody>\n",
       "</table>\n",
       "</div>"
      ],
      "text/plain": [
       "   PhraseId  SentenceId                                             Phrase  \\\n",
       "0         1           1  A series of escapades demonstrating the adage ...   \n",
       "1         2           1  A series of escapades demonstrating the adage ...   \n",
       "2         3           1                                           A series   \n",
       "3         4           1                                                  A   \n",
       "4         5           1                                             series   \n",
       "\n",
       "   Sentiment                                       Phrase_words  \n",
       "0          1  [A, series, of, escapades, demonstrating, the,...  \n",
       "1          2  [A, series, of, escapades, demonstrating, the,...  \n",
       "2          2                                        [A, series]  \n",
       "3          2                                                [A]  \n",
       "4          2                                           [series]  "
      ]
     },
     "execution_count": 7,
     "metadata": {},
     "output_type": "execute_result"
    }
   ],
   "source": [
    "data['Phrase_words'] = data[\"Phrase\"].apply(word_tokenize)\n",
    "data.head()"
   ]
  },
  {
   "cell_type": "code",
   "execution_count": 8,
   "metadata": {},
   "outputs": [
    {
     "name": "stdout",
     "output_type": "stream",
     "text": [
      "Maximum number of words in a Phrase = 53\n",
      "Minimum number of words in a Phrase = 0\n",
      "Mean word length of a Phrase = 7.208\n",
      "Median word length of a Phrase = 5.0\n"
     ]
    }
   ],
   "source": [
    "def get_num_words_per_sample(sample_texts):\n",
    "    num_words = [len(s) for s in sample_texts]\n",
    "    return num_words\n",
    "word_len = get_num_words_per_sample(data['Phrase_words'])\n",
    "print(\"Maximum number of words in a Phrase = {}\".format(np.max(word_len)))\n",
    "print(\"Minimum number of words in a Phrase = {}\".format(np.min(word_len)))\n",
    "print(\"Mean word length of a Phrase = {0:.3f}\".format(np.mean(word_len)))\n",
    "print(\"Median word length of a Phrase = {}\".format(np.median(word_len)))"
   ]
  },
  {
   "cell_type": "markdown",
   "metadata": {},
   "source": [
    "### Data Visualization\n",
    "\n",
    "Data Samples are distributed among the various classes as follows"
   ]
  },
  {
   "cell_type": "code",
   "execution_count": 9,
   "metadata": {},
   "outputs": [
    {
     "data": {
      "text/plain": [
       "Text(0,0.5,'Number of Reviews')"
      ]
     },
     "execution_count": 9,
     "metadata": {},
     "output_type": "execute_result"
    },
    {
     "data": {
      "image/png": "[encoded data removed]",
      "text/plain": [
       "<Figure size 432x360 with 1 Axes>"
      ]
     },
     "metadata": {},
     "output_type": "display_data"
    }
   ],
   "source": [
    "x = np.array(data['Sentiment'].value_counts(sort=False).index)\n",
    "y = np.array(data['Sentiment'].value_counts(sort=False).values)\n",
    "plt.figure(figsize=(6,5))\n",
    "sns.barplot(x,y)\n",
    "plt.xlabel('Sentiment')\n",
    "plt.ylabel('Number of Reviews')"
   ]
  },
  {
   "cell_type": "markdown",
   "metadata": {},
   "source": [
    "Here is a plot of most frequently occuring words in the data"
   ]
  },
  {
   "cell_type": "code",
   "execution_count": 10,
   "metadata": {},
   "outputs": [],
   "source": [
    "def plot_frequency_distribution_of_words(sample_texts,\n",
    "                                          num_words=30):\n",
    "    # Create args required for vectorizing.\n",
    "    kwargs = {\n",
    "            'dtype': 'int32',\n",
    "            'strip_accents': 'unicode',\n",
    "            'decode_error': 'replace',\n",
    "            'analyzer': 'word',  # Split text into word tokens.\n",
    "            'stop_words' : 'english' #remove the stop words in english\n",
    "    }\n",
    "    vectorizer = CountVectorizer(**kwargs)\n",
    "\n",
    "    # This creates a vocabulary (dict, where keys are words and values are\n",
    "    # idxices). \n",
    "    vectorized_texts = vectorizer.fit_transform(sample_texts)\n",
    "\n",
    "    # This is the list of all words in the index order from the vocabulary.\n",
    "    all_words = list(vectorizer.get_feature_names())\n",
    "    num_words = min(num_words, len(all_words))\n",
    "\n",
    "    # Add up the counts per word ie. column-wise\n",
    "    all_counts = vectorized_texts.sum(axis=0).tolist()[0]\n",
    "\n",
    "    # Sort words and counts by frequency and get top words.\n",
    "    all_counts, all_words = zip(*[(c, n) for c, n in sorted(\n",
    "        zip(all_counts, all_words), reverse=True)])\n",
    "    nwords = list(all_words)[:num_words]\n",
    "    counts = list(all_counts)[:num_words]\n",
    "\n",
    "    idx = np.arange(num_words)\n",
    "    plt.figure(figsize=(9,5))\n",
    "    plt.bar(idx, counts, width=0.8, color='b')\n",
    "    plt.xlabel('Most Frequently found words')\n",
    "    plt.ylabel('Frequencies')\n",
    "    plt.title('Frequency distribution of words')\n",
    "    plt.xticks(idx, nwords, rotation=45)\n",
    "    plt.show()\n"
   ]
  },
  {
   "cell_type": "code",
   "execution_count": 11,
   "metadata": {},
   "outputs": [
    {
     "data": {
      "image/png": "[encoded data removed]",
      "text/plain": [
       "<Figure size 648x360 with 1 Axes>"
      ]
     },
     "metadata": {},
     "output_type": "display_data"
    }
   ],
   "source": [
    "# This shows most frequent words in all the data samples \n",
    "plot_frequency_distribution_of_words(data['Phrase'])"
   ]
  },
  {
   "cell_type": "code",
   "execution_count": 12,
   "metadata": {},
   "outputs": [
    {
     "data": {
      "image/png": "[encoded data removed]",
      "text/plain": [
       "<Figure size 648x360 with 1 Axes>"
      ]
     },
     "metadata": {},
     "output_type": "display_data"
    }
   ],
   "source": [
    "# Most frequent words in Negative Sentiments\n",
    "neg_data = data[data['Sentiment']==0]\n",
    "plot_frequency_distribution_of_words(neg_data['Phrase'])"
   ]
  },
  {
   "cell_type": "code",
   "execution_count": 13,
   "metadata": {},
   "outputs": [
    {
     "data": {
      "image/png": "[encoded data removed]",
      "text/plain": [
       "<Figure size 648x360 with 1 Axes>"
      ]
     },
     "metadata": {},
     "output_type": "display_data"
    }
   ],
   "source": [
    "# Most frequent words in Somewhat Negative Sentiments\n",
    "sneg_data = data[data['Sentiment']==1]\n",
    "plot_frequency_distribution_of_words(sneg_data['Phrase'])"
   ]
  },
  {
   "cell_type": "code",
   "execution_count": 14,
   "metadata": {},
   "outputs": [
    {
     "data": {
      "image/png": "[encoded data removed]",
      "text/plain": [
       "<Figure size 648x360 with 1 Axes>"
      ]
     },
     "metadata": {},
     "output_type": "display_data"
    }
   ],
   "source": [
    "# Most frequent words in Neutral Sentiments\n",
    "neutral_data = data[data['Sentiment']==2]\n",
    "plot_frequency_distribution_of_words(neutral_data['Phrase'])"
   ]
  },
  {
   "cell_type": "code",
   "execution_count": 15,
   "metadata": {},
   "outputs": [
    {
     "data": {
      "image/png": "[encoded data removed]",
      "text/plain": [
       "<Figure size 648x360 with 1 Axes>"
      ]
     },
     "metadata": {},
     "output_type": "display_data"
    }
   ],
   "source": [
    "# Most frequent words in Somewhat Positive Sentiments\n",
    "spos_data = data[data['Sentiment']==3]\n",
    "plot_frequency_distribution_of_words(spos_data['Phrase'])"
   ]
  },
  {
   "cell_type": "code",
   "execution_count": 16,
   "metadata": {},
   "outputs": [
    {
     "data": {
      "image/png": "[encoded data removed]",
      "text/plain": [
       "<Figure size 648x360 with 1 Axes>"
      ]
     },
     "metadata": {},
     "output_type": "display_data"
    }
   ],
   "source": [
    "# Most frequent words in Somewhat Positive Sentiments\n",
    "pos_data = data[data['Sentiment']==4]\n",
    "plot_frequency_distribution_of_words(pos_data['Phrase'])"
   ]
  },
  {
   "cell_type": "markdown",
   "metadata": {},
   "source": [
    "Some Observations based on these graphs:\n",
    "-  Negative reviews include words like bad, worst, dull.\n",
    "-  Positive reviews include words like best, funny, good, great, love.\n",
    "-  Neutral reviews have words like story, time, life, characters.<br><br>\n",
    "\n",
    "### Data Preprocessing\n"
   ]
  },
  {
   "cell_type": "code",
   "execution_count": 17,
   "metadata": {},
   "outputs": [
    {
     "name": "stdout",
     "output_type": "stream",
     "text": [
      "(117045,) (117045,)\n",
      "(39015,) (39015,)\n"
     ]
    }
   ],
   "source": [
    "# split data into training and testing set with 75/25 ratio. Also used stratify \n",
    "# to maintain the class distribution in training and testing set\n",
    "all_train = data['Phrase']\n",
    "y = data[\"Sentiment\"]\n",
    "X_train, X_test, y_train, y_test = train_test_split(data['Phrase'], y, test_size=0.25, \n",
    "                                                    random_state = 42, \n",
    "                                                    stratify=data['Sentiment'])\n",
    "print(X_train.shape, y_train.shape)\n",
    "print(X_test.shape, y_test.shape)"
   ]
  },
  {
   "cell_type": "code",
   "execution_count": 18,
   "metadata": {},
   "outputs": [
    {
     "data": {
      "text/plain": [
       "(117045, 500)"
      ]
     },
     "execution_count": 18,
     "metadata": {},
     "output_type": "execute_result"
    }
   ],
   "source": [
    "# Use CountVectorizer to clean the data, remove stop words and generate n-grams \n",
    "# Use a maximum of 500 words\n",
    "count_vec = CountVectorizer(stop_words='english', analyzer='word', ngram_range=(1,3), \n",
    "                            max_features=500)\n",
    "xtrain_c = count_vec.fit_transform(X_train)\n",
    "xtest_c = count_vec.fit_transform(X_test)\n",
    "xtrain_c.shape"
   ]
  },
  {
   "cell_type": "code",
   "execution_count": 19,
   "metadata": {},
   "outputs": [
    {
     "data": {
      "text/plain": [
       "(117045, 131668)"
      ]
     },
     "execution_count": 19,
     "metadata": {},
     "output_type": "execute_result"
    }
   ],
   "source": [
    "# Another vectorizer used, which gives normalized results is TF-IDF\n",
    "vectorizer = TfidfVectorizer(\n",
    "    sublinear_tf=True,\n",
    "    strip_accents='unicode', # Remove accents during the preprocessing step.\n",
    "    analyzer='word', \n",
    "    stop_words='english', # remove english stop words\n",
    "    ngram_range=(1, 3), \n",
    "    max_features=300000)\n",
    "vectorizer.fit(all_train)\n",
    "xtrain_f =  vectorizer.transform(X_train) \n",
    "xtest_f =  vectorizer.transform(X_test)\n",
    "\n",
    "xtrain_f.shape"
   ]
  },
  {
   "cell_type": "code",
   "execution_count": 20,
   "metadata": {},
   "outputs": [],
   "source": [
    "# Cleaning and Preprocessing Data for Convolutional Neural Networks, remove stopwords, create \n",
    "# equal length input sequences and one hot encode them. \n",
    "stopwords = set(nltk.corpus.stopwords.words(\"english\"))\n",
    "max_vocab = 2000\n",
    "def remove_stopwords(word_list):\n",
    "    return [word.lower() for word in word_list if word.lower() not in stopwords]\n",
    "\n",
    "#Add a new column for preprocessing, which tokenizes, removes stopwords and then \n",
    "# joins the words back together\n",
    "data['Phrase_mod'] = data['Phrase'].apply(word_tokenize).apply(remove_stopwords).apply(lambda x: \" \".join(x))\n",
    "\n",
    "data[\"num_words\"] = data[\"Phrase_mod\"].apply(len)\n",
    "data = data[data[\"num_words\"] > 0]\n",
    "\n",
    "tokenizer = text.Tokenizer(num_words=max_vocab)\n",
    "tokenizer.fit_on_texts(data[\"Phrase_mod\"])\n",
    "x_tokenized=tokenizer.texts_to_sequences(data[\"Phrase_mod\"])\n",
    "X_train_conv, X_test_conv, y_train_conv, y_test_conv = train_test_split(x_tokenized, data['Sentiment'],\n",
    "                                                                        test_size=0.25, random_state = 42,\n",
    "                                                                        stratify=data['Sentiment'])\n"
   ]
  },
  {
   "cell_type": "code",
   "execution_count": 21,
   "metadata": {},
   "outputs": [
    {
     "name": "stdout",
     "output_type": "stream",
     "text": [
      "(116437, 2000) (116437, 5)\n",
      "(38813, 2000) (38813, 5)\n"
     ]
    }
   ],
   "source": [
    "# One hot encode the Phrases and the labels for the Convolutional Neural Network\n",
    "X_train_conv_cat = tokenizer.sequences_to_matrix(X_train_conv, mode='binary')\n",
    "X_test_conv_cat = tokenizer.sequences_to_matrix(X_test_conv, mode='binary')\n",
    "y_train_conv = to_categorical(y_train_conv)\n",
    "y_test_conv = to_categorical(y_test_conv)\n",
    "print(X_train_conv_cat.shape, y_train_conv.shape)\n",
    "print(X_test_conv_cat.shape, y_test_conv.shape)"
   ]
  },
  {
   "cell_type": "code",
   "execution_count": 22,
   "metadata": {},
   "outputs": [
    {
     "name": "stdout",
     "output_type": "stream",
     "text": [
      "Time taken load word2vec = 68.52\n"
     ]
    }
   ],
   "source": [
    "# Loading word2vec embeddings for use in LSTM \n",
    "import io\n",
    "from time import time\n",
    "def load_vectors(fname):\n",
    "    fin = io.open(fname, 'r', encoding='utf-8', newline='\\n', errors='ignore')\n",
    "    n, d = map(int, fin.readline().split())\n",
    "    data = {}\n",
    "    for line in fin:\n",
    "        tokens = line.rstrip().split(' ')\n",
    "        data[tokens[0]] = np.asarray(tokens[1:], dtype='float32')\n",
    "    return data\n",
    "\n",
    "t1 = time()\n",
    "embeddings = load_vectors('wiki-news-300d-1M.vec')\n",
    "t2 = time()\n",
    "print(\"Time taken load word2vec = {:.2f}\".format(t2-t1))"
   ]
  },
  {
   "cell_type": "code",
   "execution_count": 23,
   "metadata": {},
   "outputs": [],
   "source": [
    "X_train_seq = {}\n",
    "X_test_seq = {}\n"
   ]
  },
  {
   "cell_type": "code",
   "execution_count": 24,
   "metadata": {},
   "outputs": [
    {
     "name": "stdout",
     "output_type": "stream",
     "text": [
      "Embedding not found for 868 word\n"
     ]
    }
   ],
   "source": [
    "# Further processing for x_tokenized for using the loaded word embeddings \n",
    "rnn_tokenizer = text.Tokenizer()\n",
    "rnn_tokenizer.fit_on_texts(data[\"Phrase_mod\"])\n",
    "word_index = rnn_tokenizer.word_index\n",
    "x_tokenized_rnn=tokenizer.texts_to_sequences(data[\"Phrase_mod\"])\n",
    "\n",
    "X_train_rnn, X_test_rnn, y_train_rnn, y_test_rnn = train_test_split(data[\"Phrase_mod\"], data[\"Sentiment\"], test_size=0.25, \n",
    "                                                    random_state = 42, stratify=data['Sentiment'])\n",
    "#print(X_train_rnn.shape)\n",
    "# Prepairing data for using the word embeddings in LSTM RNN\n",
    "X_train_seq = sequence.pad_sequences(rnn_tokenizer.texts_to_sequences(X_train_rnn), maxlen=32)\n",
    "X_test_seq = sequence.pad_sequences(rnn_tokenizer.texts_to_sequences(X_test_rnn), maxlen=32)\n",
    "\n",
    "nf = 0\n",
    "word_nf = []\n",
    "# Generate mapping for current words using available word2vec model\n",
    "mapping = np.zeros((len(word_index)+1, 300))\n",
    "for word, i in word_index.items():\n",
    "    embed_vec = embeddings.get(word)\n",
    "    if embed_vec is not None:\n",
    "        mapping[i] = np.asarray(embed_vec)\n",
    "    else:\n",
    "        #print(\"Embedding not found for '{}'\".format(word))\n",
    "        word_nf.append(word)\n",
    "        nf += 1\n",
    "print(\"Embedding not found for {} word\".format(nf))"
   ]
  },
  {
   "cell_type": "code",
   "execution_count": 25,
   "metadata": {},
   "outputs": [],
   "source": [
    "y_train_rnn = to_categorical(y_train_rnn)\n",
    "y_test_rnn = to_categorical(y_test_rnn)"
   ]
  },
  {
   "cell_type": "markdown",
   "metadata": {},
   "source": [
    "### Benchmark Model - Naive Bayes Classifier\n"
   ]
  },
  {
   "cell_type": "code",
   "execution_count": 26,
   "metadata": {},
   "outputs": [],
   "source": [
    "cv_accuracy_dict = {}\n",
    "cv_f1score_dict = {}\n",
    "tf_accuracy_dict = {}\n",
    "tf_f1score_dict = {}\n",
    "\n",
    "def run_and_eval_model(name, cv_model, tf_model, cv_train, tf_train, cv_test, tf_test, \n",
    "                       y_tr, y_tst): \n",
    "                       #cv_acc_dict, cv_f1_dict, tf_acc_dict, tf_f1_dict):\n",
    "    t1 = time()\n",
    "    count_vec_model = cv_model.fit(cv_train, y_tr)\n",
    "    t2 = time()\n",
    "    print(\"Model\", name,  \"using CountVec fitted in {0:.2f} seconds\".format(t2-t1))\n",
    "\n",
    "    predictionsc = count_vec_model.predict(cv_test)\n",
    "    acc_score = round((accuracy_score(y_tst, predictionsc) * 100), 3)\n",
    "    f1_sc = round((f1_score(y_tst, predictionsc, average='weighted')), 3)\n",
    "    print(\"Model\" , name, \"using CountVectorizer Accuracy Score = {0:.3f}\".format(acc_score))\n",
    "    print(\"& F1 Score = {0:.3f}\".format(f1_sc))\n",
    "    cv_accuracy_dict[name] = acc_score\n",
    "    cv_f1score_dict[name] = f1_sc\n",
    "\n",
    "    # Using Tfidf Vectorizer\n",
    "    t1 = time()\n",
    "    tf_idf_model = tf_model.fit(tf_train, y_tr)\n",
    "    t2 = time()\n",
    "    print(\"Model\", name, \"using TfidfVec fitted in {:.2f} seconds\".format(t2-t1))\n",
    "\n",
    "    predictionst = tf_idf_model.predict(tf_test)\n",
    "    acc_score_t = round((accuracy_score(y_tst, predictionst) * 100), 3)\n",
    "    f1_score_t = round((f1_score(y_tst, predictionst, average='weighted')), 3)\n",
    "    print(\"Model\", name, \"using TfIdfVectorizer Accuracy Score = {0:.3f}\".format(acc_score_t))\n",
    "    print(\"& F1 Score = {0:.3f}\".format(f1_score_t))\n",
    "    tf_accuracy_dict[name] = acc_score_t\n",
    "    tf_f1score_dict[name] = f1_score_t"
   ]
  },
  {
   "cell_type": "code",
   "execution_count": 27,
   "metadata": {},
   "outputs": [
    {
     "name": "stdout",
     "output_type": "stream",
     "text": [
      "Model NaiveBayes using CountVec fitted in 0.06 seconds\n",
      "Model NaiveBayes using CountVectorizer Accuracy Score = 50.891\n",
      "& F1 Score = 0.403\n",
      "Model NaiveBayes using TfidfVec fitted in 0.15 seconds\n",
      "Model NaiveBayes using TfIdfVectorizer Accuracy Score = 61.102\n",
      "& F1 Score = 0.558\n"
     ]
    }
   ],
   "source": [
    "# Benchmark Model - Multinomial Naive Bayes\n",
    "run_and_eval_model(\"NaiveBayes\", MultinomialNB(), MultinomialNB(),xtrain_c, xtrain_f, \n",
    "                    xtest_c, xtest_f, y_train, y_test)"
   ]
  },
  {
   "cell_type": "markdown",
   "metadata": {},
   "source": [
    "The benchmark model used is __Multinomial Naive Bayes Classifier__.\n",
    "-  Random guessing gives 20% accuracy\n",
    "-  Naive Bayes with CountVectorizer gives 50.89% accuracy which is a lot better than random guessing. \n",
    "-  Naive Bayes with TfidfVectorizer does much better and gives 61.1% accuracy \n",
    "- Let's see how much better we can do with some other Algorithms.\n",
    "\n",
    "\n",
    "Let's try the following Supervised Learning Classifiers:\n",
    " - Logistic Regression\n",
    " - Linear Support Vector Machine\n",
    " - Random Forest"
   ]
  },
  {
   "cell_type": "code",
   "execution_count": 28,
   "metadata": {},
   "outputs": [
    {
     "name": "stdout",
     "output_type": "stream",
     "text": [
      "Model LogisticRegression using CountVec fitted in 1.56 seconds\n",
      "Model LogisticRegression using CountVectorizer Accuracy Score = 50.986\n",
      "& F1 Score = 0.425\n",
      "Model LogisticRegression using TfidfVec fitted in 2.86 seconds\n",
      "Model LogisticRegression using TfIdfVectorizer Accuracy Score = 61.697\n",
      "& F1 Score = 0.573\n"
     ]
    }
   ],
   "source": [
    "# Logistic Regression\n",
    "run_and_eval_model(\"LogisticRegression\", LogisticRegression(), LogisticRegression(),\n",
    "                    xtrain_c, xtrain_f, xtest_c, xtest_f, y_train, y_test)"
   ]
  },
  {
   "cell_type": "code",
   "execution_count": 29,
   "metadata": {},
   "outputs": [
    {
     "name": "stdout",
     "output_type": "stream",
     "text": [
      "Model LinearSVC using CountVec fitted in 33.74 seconds\n",
      "Model LinearSVC using CountVectorizer Accuracy Score = 51.226\n",
      "& F1 Score = 0.424\n",
      "Model LinearSVC using TfidfVec fitted in 3.26 seconds\n",
      "Model LinearSVC using TfIdfVectorizer Accuracy Score = 64.365\n",
      "& F1 Score = 0.635\n"
     ]
    }
   ],
   "source": [
    "# Linear Support Vector Machine\n",
    "run_and_eval_model(\"LinearSVC\", LinearSVC(), LinearSVC(), xtrain_c, xtrain_f, \n",
    "                    xtest_c, xtest_f, y_train, y_test)"
   ]
  },
  {
   "cell_type": "code",
   "execution_count": 91,
   "metadata": {},
   "outputs": [
    {
     "name": "stdout",
     "output_type": "stream",
     "text": [
      "Model RandomForest using CountVec fitted in 10.32 seconds\n",
      "Model RandomForest using CountVectorizer Accuracy Score = 50.145\n",
      "& F1 Score = 0.427\n",
      "Model RandomForest using TfidfVec fitted in 1139.83 seconds\n",
      "Model RandomForest using TfIdfVectorizer Accuracy Score = 63.037\n",
      "& F1 Score = 0.621\n"
     ]
    }
   ],
   "source": [
    "# Random Forest Classifier\n",
    "run_and_eval_model(\"RandomForest\", RandomForestClassifier(random_state=42), RandomForestClassifier(random_state=42),\n",
    "                    xtrain_c, xtrain_f, xtest_c, xtest_f, y_train, y_test)\n"
   ]
  },
  {
   "cell_type": "code",
   "execution_count": 92,
   "metadata": {},
   "outputs": [
    {
     "name": "stdout",
     "output_type": "stream",
     "text": [
      "{'NaiveBayes': 50.891, 'LogisticRegression': 50.986, 'LinearSVC': 51.226, 'RandomForest': 50.145}\n"
     ]
    }
   ],
   "source": [
    "print(cv_accuracy_dict)"
   ]
  },
  {
   "cell_type": "code",
   "execution_count": 93,
   "metadata": {},
   "outputs": [
    {
     "name": "stdout",
     "output_type": "stream",
     "text": [
      "{'NaiveBayes': 61.102, 'LogisticRegression': 61.697, 'LinearSVC': 64.365, 'RandomForest': 63.037}\n"
     ]
    }
   ],
   "source": [
    "print(tf_accuracy_dict)"
   ]
  },
  {
   "cell_type": "code",
   "execution_count": 51,
   "metadata": {},
   "outputs": [
    {
     "name": "stdout",
     "output_type": "stream",
     "text": [
      "_________________________________________________________________\n",
      "Layer (type)                 Output Shape              Param #   \n",
      "=================================================================\n",
      "dropout_25 (Dropout)         (None, 2000)              0         \n",
      "_________________________________________________________________\n",
      "dense_25 (Dense)             (None, 2048)              4098048   \n",
      "_________________________________________________________________\n",
      "dropout_26 (Dropout)         (None, 2048)              0         \n",
      "_________________________________________________________________\n",
      "dense_26 (Dense)             (None, 5)                 10245     \n",
      "=================================================================\n",
      "Total params: 4,108,293\n",
      "Trainable params: 4,108,293\n",
      "Non-trainable params: 0\n",
      "_________________________________________________________________\n"
     ]
    }
   ],
   "source": [
    "# Neural Network Model Architecture used\n",
    "input_shape = X_train_conv_cat.shape[1:]\n",
    "model = Sequential()\n",
    "model.add(Dropout(rate=0.2, input_shape=input_shape))\n",
    "model.add(Dense(2048, activation='relu'))\n",
    "model.add(Dropout(0.2))\n",
    "model.add(Dense(5, activation='softmax'))\n",
    "\n",
    "model.summary()"
   ]
  },
  {
   "cell_type": "code",
   "execution_count": 52,
   "metadata": {},
   "outputs": [],
   "source": [
    "# Compile the model - adam seems to be the best optimizer\n",
    "model.compile(loss='categorical_crossentropy', optimizer='adam', \n",
    "              metrics=['accuracy'])"
   ]
  },
  {
   "cell_type": "code",
   "execution_count": 53,
   "metadata": {},
   "outputs": [
    {
     "name": "stdout",
     "output_type": "stream",
     "text": [
      "38813/38813 [==============================] - 5s 123us/step\n",
      "Test accuracy: 19.9572%\n"
     ]
    }
   ],
   "source": [
    "#Test the accuracy of the model before training, it could be anything close to the random guess\n",
    "score = model.evaluate(X_test_conv_cat, y_test_conv, verbose = 1)\n",
    "accuracy = 100*score[1]\n",
    "\n",
    "# print test accuracy\n",
    "print('Test accuracy: %.4f%%' % accuracy)"
   ]
  },
  {
   "cell_type": "code",
   "execution_count": 114,
   "metadata": {},
   "outputs": [
    {
     "name": "stdout",
     "output_type": "stream",
     "text": [
      "Train on 93149 samples, validate on 23288 samples\n",
      "Epoch 1/20\n",
      "93149/93149 [==============================] - 18s 190us/step - loss: 1.2047 - acc: 0.5354 - val_loss: 1.0580 - val_acc: 0.5859\n",
      "\n",
      "Epoch 00001: val_loss improved from inf to 1.05797, saving model to ./bestfit\n",
      "Epoch 2/20\n",
      "93149/93149 [==============================] - 16s 170us/step - loss: 1.0322 - acc: 0.6025 - val_loss: 1.0122 - val_acc: 0.6055\n",
      "\n",
      "Epoch 00002: val_loss improved from 1.05797 to 1.01224, saving model to ./bestfit\n",
      "Epoch 3/20\n",
      "93149/93149 [==============================] - 16s 171us/step - loss: 0.9946 - acc: 0.6173 - val_loss: 0.9960 - val_acc: 0.6143\n",
      "\n",
      "Epoch 00003: val_loss improved from 1.01224 to 0.99600, saving model to ./bestfit\n",
      "Epoch 4/20\n",
      "93149/93149 [==============================] - 16s 174us/step - loss: 0.9693 - acc: 0.6287 - val_loss: 0.9840 - val_acc: 0.6168\n",
      "\n",
      "Epoch 00004: val_loss improved from 0.99600 to 0.98403, saving model to ./bestfit\n",
      "Epoch 5/20\n",
      "93149/93149 [==============================] - 16s 172us/step - loss: 0.9480 - acc: 0.6365 - val_loss: 0.9773 - val_acc: 0.6181\n",
      "\n",
      "Epoch 00005: val_loss improved from 0.98403 to 0.97734, saving model to ./bestfit\n",
      "Epoch 6/20\n",
      "93149/93149 [==============================] - 16s 170us/step - loss: 0.9296 - acc: 0.6442 - val_loss: 0.9718 - val_acc: 0.6207\n",
      "\n",
      "Epoch 00006: val_loss improved from 0.97734 to 0.97182, saving model to ./bestfit\n",
      "Epoch 7/20\n",
      "93149/93149 [==============================] - 16s 169us/step - loss: 0.9104 - acc: 0.6529 - val_loss: 0.9679 - val_acc: 0.6223\n",
      "\n",
      "Epoch 00007: val_loss improved from 0.97182 to 0.96790, saving model to ./bestfit\n",
      "Epoch 8/20\n",
      "93149/93149 [==============================] - 16s 169us/step - loss: 0.8935 - acc: 0.6595 - val_loss: 0.9652 - val_acc: 0.6231\n",
      "\n",
      "Epoch 00008: val_loss improved from 0.96790 to 0.96516, saving model to ./bestfit\n",
      "Epoch 9/20\n",
      "93149/93149 [==============================] - 16s 168us/step - loss: 0.8773 - acc: 0.6671 - val_loss: 0.9640 - val_acc: 0.6257\n",
      "\n",
      "Epoch 00009: val_loss improved from 0.96516 to 0.96404, saving model to ./bestfit\n",
      "Epoch 10/20\n",
      "93149/93149 [==============================] - 16s 170us/step - loss: 0.8632 - acc: 0.6713 - val_loss: 0.9677 - val_acc: 0.6249\n",
      "\n",
      "Epoch 00010: val_loss did not improve from 0.96404\n",
      "Epoch 11/20\n",
      "93149/93149 [==============================] - 16s 170us/step - loss: 0.8514 - acc: 0.6780 - val_loss: 0.9696 - val_acc: 0.6253\n",
      "\n",
      "Epoch 00011: val_loss did not improve from 0.96404\n",
      "Epoch 12/20\n",
      "93149/93149 [==============================] - 16s 170us/step - loss: 0.8401 - acc: 0.6817 - val_loss: 0.9726 - val_acc: 0.6243\n",
      "\n",
      "Epoch 00012: val_loss did not improve from 0.96404\n",
      "Epoch 13/20\n",
      "93149/93149 [==============================] - 16s 169us/step - loss: 0.8313 - acc: 0.6845 - val_loss: 0.9767 - val_acc: 0.6266\n",
      "\n",
      "Epoch 00013: val_loss did not improve from 0.96404\n",
      "Epoch 14/20\n",
      "93149/93149 [==============================] - 16s 169us/step - loss: 0.8199 - acc: 0.6909 - val_loss: 0.9807 - val_acc: 0.6245\n",
      "\n",
      "Epoch 00014: val_loss did not improve from 0.96404\n",
      "Epoch 15/20\n",
      "93149/93149 [==============================] - 16s 168us/step - loss: 0.8120 - acc: 0.6907 - val_loss: 0.9842 - val_acc: 0.6252\n",
      "\n",
      "Epoch 00015: val_loss did not improve from 0.96404\n",
      "Epoch 16/20\n",
      "93149/93149 [==============================] - 16s 169us/step - loss: 0.8038 - acc: 0.6959 - val_loss: 0.9912 - val_acc: 0.6226\n",
      "\n",
      "Epoch 00016: val_loss did not improve from 0.96404\n",
      "Epoch 17/20\n",
      "93149/93149 [==============================] - 16s 170us/step - loss: 0.8004 - acc: 0.6952 - val_loss: 0.9951 - val_acc: 0.6228\n",
      "\n",
      "Epoch 00017: val_loss did not improve from 0.96404\n",
      "Epoch 18/20\n",
      "93149/93149 [==============================] - 16s 169us/step - loss: 0.7931 - acc: 0.6978 - val_loss: 1.0004 - val_acc: 0.6238\n",
      "\n",
      "Epoch 00018: val_loss did not improve from 0.96404\n",
      "Epoch 19/20\n",
      "93149/93149 [==============================] - 16s 170us/step - loss: 0.7880 - acc: 0.6996 - val_loss: 1.0067 - val_acc: 0.6225\n",
      "\n",
      "Epoch 00019: val_loss did not improve from 0.96404\n",
      "Epoch 20/20\n",
      "93149/93149 [==============================] - 16s 169us/step - loss: 0.7800 - acc: 0.7025 - val_loss: 1.0141 - val_acc: 0.6192\n",
      "\n",
      "Epoch 00020: val_loss did not improve from 0.96404\n"
     ]
    }
   ],
   "source": [
    "from keras.callbacks import ModelCheckpoint\n",
    "\n",
    "# Set the model up for ModelCheckPoint, train the model\n",
    "checkpointer = ModelCheckpoint(filepath='./bestfit', \n",
    "                               verbose=1, save_best_only=True)\n",
    "hist = model.fit(X_train_conv_cat, y_train_conv, batch_size=1500, epochs=20,\n",
    "          validation_split=0.2, callbacks=[checkpointer],\n",
    "          verbose=1, shuffle=True)"
   ]
  },
  {
   "cell_type": "code",
   "execution_count": 115,
   "metadata": {},
   "outputs": [
    {
     "name": "stdout",
     "output_type": "stream",
     "text": [
      "38813/38813 [==============================] - 5s 132us/step\n",
      "Test accuracy: 62.8501%\n"
     ]
    }
   ],
   "source": [
    "# Load the best fit model and find its accuracy on test set\n",
    "model.load_weights('./bestfit')\n",
    "score = model.evaluate(X_test_conv_cat, y_test_conv, verbose=1)\n",
    "accuracy = 100*score[1]\n",
    "\n",
    "# print test accuracy\n",
    "print('Test accuracy: %.4f%%' % accuracy)"
   ]
  },
  {
   "cell_type": "markdown",
   "metadata": {},
   "source": [
    "#### Neural Network Accuracy - 62.85 %\n",
    "\n",
    "Let's try a Deep Neural Network with an LSTM next:"
   ]
  },
  {
   "cell_type": "code",
   "execution_count": 102,
   "metadata": {},
   "outputs": [
    {
     "name": "stdout",
     "output_type": "stream",
     "text": [
      "_________________________________________________________________\n",
      "Layer (type)                 Output Shape              Param #   \n",
      "=================================================================\n",
      "input_6 (InputLayer)         (None, 32)                0         \n",
      "_________________________________________________________________\n",
      "embedding_4 (Embedding)      (None, 32, 300)           4567200   \n",
      "_________________________________________________________________\n",
      "spatial_dropout1d_4 (Spatial (None, 32, 300)           0         \n",
      "_________________________________________________________________\n",
      "lstm_3 (LSTM)                (None, 256)               570368    \n",
      "_________________________________________________________________\n",
      "batch_normalization_3 (Batch (None, 256)               1024      \n",
      "_________________________________________________________________\n",
      "dense_33 (Dense)             (None, 128)               32896     \n",
      "_________________________________________________________________\n",
      "dropout_31 (Dropout)         (None, 128)               0         \n",
      "_________________________________________________________________\n",
      "dense_34 (Dense)             (None, 64)                8256      \n",
      "_________________________________________________________________\n",
      "dropout_32 (Dropout)         (None, 64)                0         \n",
      "_________________________________________________________________\n",
      "dense_35 (Dense)             (None, 5)                 325       \n",
      "=================================================================\n",
      "Total params: 5,180,069\n",
      "Trainable params: 612,357\n",
      "Non-trainable params: 4,567,712\n",
      "_________________________________________________________________\n"
     ]
    }
   ],
   "source": [
    "# Input Layer\n",
    "input_layer = Input((32,))\n",
    "\n",
    "# Embedding Layer\n",
    "embed1 = Embedding(len(word_index) + 1, 300, weights=[mapping], trainable=False)(input_layer)\n",
    "embed2 = SpatialDropout1D(0.25)(embed1)\n",
    "\n",
    "# LSTM with dropout\n",
    "lstm1 = LSTM(256, dropout=0.25)(embed2)\n",
    "\n",
    "# Batch Normalization\n",
    "batch1 = BatchNormalization()(lstm1)\n",
    "\n",
    "# Dense layers with Dropout\n",
    "d1 = Dense(128, activation=\"relu\")(batch1)\n",
    "dropout1 = Dropout(0.5)(d1)\n",
    "d2 = Dense(64, activation=\"relu\")(dropout1)\n",
    "dropout2 = Dropout(0.25)(d2)\n",
    "output_layer = Dense(5, activation=\"softmax\")(dropout2)\n",
    "\n",
    "# Compile the model \n",
    "lstm = Model(inputs=input_layer, outputs=output_layer)\n",
    "lstm.compile(optimizer=\"adam\", loss='categorical_crossentropy', metrics=[\"accuracy\"])\n",
    "lstm.summary()\n"
   ]
  },
  {
   "cell_type": "code",
   "execution_count": 73,
   "metadata": {},
   "outputs": [
    {
     "name": "stdout",
     "output_type": "stream",
     "text": [
      "Epoch 1/50\n",
      "116437/116437 [==============================] - 123s 1ms/step - loss: 1.1285 - acc: 0.5433\n",
      "Epoch 2/50\n",
      "116437/116437 [==============================] - 119s 1ms/step - loss: 1.0108 - acc: 0.5863\n",
      "Epoch 3/50\n",
      "116437/116437 [==============================] - 120s 1ms/step - loss: 0.9890 - acc: 0.5950\n",
      "Epoch 4/50\n",
      "116437/116437 [==============================] - 120s 1ms/step - loss: 0.9698 - acc: 0.6011\n",
      "Epoch 5/50\n",
      "116437/116437 [==============================] - 120s 1ms/step - loss: 0.9593 - acc: 0.6067\n",
      "Epoch 6/50\n",
      "116437/116437 [==============================] - 120s 1ms/step - loss: 0.9504 - acc: 0.6107\n",
      "Epoch 7/50\n",
      "116437/116437 [==============================] - 120s 1ms/step - loss: 0.9424 - acc: 0.6133\n",
      "Epoch 8/50\n",
      "116437/116437 [==============================] - 120s 1ms/step - loss: 0.9326 - acc: 0.6169\n",
      "Epoch 9/50\n",
      "116437/116437 [==============================] - 121s 1ms/step - loss: 0.9251 - acc: 0.6188\n",
      "Epoch 10/50\n",
      "116437/116437 [==============================] - 120s 1ms/step - loss: 0.9189 - acc: 0.6188\n",
      "Epoch 11/50\n",
      "116437/116437 [==============================] - 120s 1ms/step - loss: 0.9112 - acc: 0.6245\n",
      "Epoch 12/50\n",
      "116437/116437 [==============================] - 120s 1ms/step - loss: 0.9043 - acc: 0.6285\n",
      "Epoch 13/50\n",
      "116437/116437 [==============================] - 120s 1ms/step - loss: 0.8961 - acc: 0.6301\n",
      "Epoch 14/50\n",
      "116437/116437 [==============================] - 120s 1ms/step - loss: 0.8899 - acc: 0.6326\n",
      "Epoch 15/50\n",
      "116437/116437 [==============================] - 167s 1ms/step - loss: 0.8845 - acc: 0.6353\n",
      "Epoch 16/50\n",
      "116437/116437 [==============================] - 121s 1ms/step - loss: 0.8765 - acc: 0.6386\n",
      "Epoch 17/50\n",
      "116437/116437 [==============================] - 121s 1ms/step - loss: 0.8725 - acc: 0.6398\n",
      "Epoch 18/50\n",
      "116437/116437 [==============================] - 120s 1ms/step - loss: 0.8648 - acc: 0.6417\n",
      "Epoch 19/50\n",
      "116437/116437 [==============================] - 120s 1ms/step - loss: 0.8599 - acc: 0.6436\n",
      "Epoch 20/50\n",
      "116437/116437 [==============================] - 120s 1ms/step - loss: 0.8543 - acc: 0.6467\n",
      "Epoch 21/50\n",
      "116437/116437 [==============================] - 120s 1ms/step - loss: 0.8481 - acc: 0.6489\n",
      "Epoch 22/50\n",
      "116437/116437 [==============================] - 121s 1ms/step - loss: 0.8450 - acc: 0.6497\n",
      "Epoch 23/50\n",
      "116437/116437 [==============================] - 120s 1ms/step - loss: 0.8397 - acc: 0.6515\n",
      "Epoch 24/50\n",
      "116437/116437 [==============================] - 120s 1ms/step - loss: 0.8352 - acc: 0.6542\n",
      "Epoch 25/50\n",
      "116437/116437 [==============================] - 281s 2ms/step - loss: 0.8317 - acc: 0.6541\n",
      "Epoch 26/50\n",
      "116437/116437 [==============================] - 121s 1ms/step - loss: 0.8274 - acc: 0.6569\n",
      "Epoch 27/50\n",
      "116437/116437 [==============================] - 120s 1ms/step - loss: 0.8219 - acc: 0.6594\n",
      "Epoch 28/50\n",
      "116437/116437 [==============================] - 121s 1ms/step - loss: 0.8189 - acc: 0.6587\n",
      "Epoch 29/50\n",
      "116437/116437 [==============================] - 120s 1ms/step - loss: 0.8140 - acc: 0.6622\n",
      "Epoch 30/50\n",
      "116437/116437 [==============================] - 120s 1ms/step - loss: 0.8096 - acc: 0.6633\n",
      "Epoch 31/50\n",
      "116437/116437 [==============================] - 121s 1ms/step - loss: 0.8052 - acc: 0.6648\n",
      "Epoch 32/50\n",
      "116437/116437 [==============================] - 121s 1ms/step - loss: 0.8013 - acc: 0.6667\n",
      "Epoch 33/50\n",
      "116437/116437 [==============================] - 121s 1ms/step - loss: 0.7960 - acc: 0.6684\n",
      "Epoch 34/50\n",
      "116437/116437 [==============================] - 121s 1ms/step - loss: 0.7932 - acc: 0.6690\n",
      "Epoch 35/50\n",
      "116437/116437 [==============================] - 121s 1ms/step - loss: 0.7898 - acc: 0.6707\n",
      "Epoch 36/50\n",
      "116437/116437 [==============================] - 121s 1ms/step - loss: 0.7853 - acc: 0.6731\n",
      "Epoch 37/50\n",
      "116437/116437 [==============================] - 121s 1ms/step - loss: 0.7789 - acc: 0.6758\n",
      "Epoch 38/50\n",
      "116437/116437 [==============================] - 121s 1ms/step - loss: 0.7788 - acc: 0.6756\n",
      "Epoch 39/50\n",
      "116437/116437 [==============================] - 121s 1ms/step - loss: 0.7747 - acc: 0.6771\n",
      "Epoch 40/50\n",
      "116437/116437 [==============================] - 121s 1ms/step - loss: 0.7713 - acc: 0.6777\n",
      "Epoch 41/50\n",
      "116437/116437 [==============================] - 121s 1ms/step - loss: 0.7675 - acc: 0.6798\n",
      "Epoch 42/50\n",
      "116437/116437 [==============================] - 121s 1ms/step - loss: 0.7646 - acc: 0.6818\n",
      "Epoch 43/50\n",
      "116437/116437 [==============================] - 120s 1ms/step - loss: 0.7605 - acc: 0.6811\n",
      "Epoch 44/50\n",
      "116437/116437 [==============================] - 2143s 18ms/step - loss: 0.7551 - acc: 0.6852\n",
      "Epoch 45/50\n",
      "116437/116437 [==============================] - 118s 1ms/step - loss: 0.7517 - acc: 0.6858\n",
      "Epoch 46/50\n",
      "116437/116437 [==============================] - 119s 1ms/step - loss: 0.7500 - acc: 0.6863\n",
      "Epoch 47/50\n",
      "116437/116437 [==============================] - 122s 1ms/step - loss: 0.7465 - acc: 0.6892\n",
      "Epoch 48/50\n",
      "116437/116437 [==============================] - 121s 1ms/step - loss: 0.7449 - acc: 0.6891\n",
      "Epoch 49/50\n",
      "116437/116437 [==============================] - 121s 1ms/step - loss: 0.7399 - acc: 0.6911\n",
      "Epoch 50/50\n",
      "116437/116437 [==============================] - 122s 1ms/step - loss: 0.7402 - acc: 0.6899\n"
     ]
    },
    {
     "data": {
      "text/plain": [
       "<keras.callbacks.History at 0x1a58f8a828>"
      ]
     },
     "execution_count": 73,
     "metadata": {},
     "output_type": "execute_result"
    }
   ],
   "source": [
    "lstm.fit(X_train_seq, y_train_rnn, batch_size=512, epochs=50)\n"
   ]
  },
  {
   "cell_type": "code",
   "execution_count": 101,
   "metadata": {},
   "outputs": [
    {
     "name": "stdout",
     "output_type": "stream",
     "text": [
      "38813/38813 [==============================] - 24s 622us/step\n"
     ]
    },
    {
     "data": {
      "text/plain": [
       "[0.7900979694910899, 0.673769097961135]"
      ]
     },
     "execution_count": 101,
     "metadata": {},
     "output_type": "execute_result"
    }
   ],
   "source": [
    "lstm.evaluate(X_test_seq, y_test_rnn)"
   ]
  },
  {
   "cell_type": "markdown",
   "metadata": {},
   "source": [
    "### Accuracy of Deep Neural Network with LSTM = 67.37%"
   ]
  },
  {
   "cell_type": "markdown",
   "metadata": {},
   "source": [
    "### Result Visualizations"
   ]
  },
  {
   "cell_type": "code",
   "execution_count": 30,
   "metadata": {},
   "outputs": [],
   "source": [
    "# Plot accuracy scores of top performing models\n",
    "models = [\"NaiveBayes(CV)\", \"LinearSVC(TV)\", \"NeuralNetwork\", \"NN with LSTM\"]\n",
    "accuracy = [50.891, 64.365, 62.85, 67.37]"
   ]
  },
  {
   "cell_type": "code",
   "execution_count": 31,
   "metadata": {},
   "outputs": [
    {
     "data": {
      "text/plain": [
       "(array([0, 1, 2, 3]), <a list of 4 Text xticklabel objects>)"
      ]
     },
     "execution_count": 31,
     "metadata": {},
     "output_type": "execute_result"
    },
    {
     "data": {
      "image/png": "[encoded data removed]",
      "text/plain": [
       "<Figure size 432x360 with 1 Axes>"
      ]
     },
     "metadata": {},
     "output_type": "display_data"
    }
   ],
   "source": [
    "x = np.array(models)\n",
    "y = np.array(accuracy)\n",
    "plt.figure(figsize=(6,5))\n",
    "sns.barplot(x,y)\n",
    "plt.title('Plot of Model Accuracy')\n",
    "plt.xlabel('models')\n",
    "plt.ylabel('Accuracy')\n",
    "plt.xticks(rotation=90)"
   ]
  },
  {
   "cell_type": "code",
   "execution_count": 32,
   "metadata": {},
   "outputs": [
    {
     "data": {
      "text/plain": [
       "(array([0, 1, 2, 3, 4, 5, 6, 7]), <a list of 8 Text xticklabel objects>)"
      ]
     },
     "execution_count": 32,
     "metadata": {},
     "output_type": "execute_result"
    },
    {
     "data": {
      "image/png": "[encoded data removed]",
      "text/plain": [
       "<Figure size 432x360 with 1 Axes>"
      ]
     },
     "metadata": {},
     "output_type": "display_data"
    }
   ],
   "source": [
    "# Plot F1-score of Supervised models\n",
    "models = [\"NaiveBayes(CV)\", \"LogisticRegression(CV)\", \"LinearSVC(CV)\", \"RandomForest(CV)\",\n",
    "          \"NaiveBayes(TV)\",  \"LogisticRegression(TV)\", \"LinearSVC(TV)\", \"RandomForest(TV)\"]\n",
    "f1score = [0.403, 0.425, 0.424, 0.427, 0.558, 0.573, 0.635, 0.621]\n",
    "import seaborn as sns\n",
    "x = np.array(models)\n",
    "y = np.array(f1score)\n",
    "plt.figure(figsize=(6,5))\n",
    "sns.barplot(x,y)\n",
    "plt.title('Plot of Supervised Model F1-Score')\n",
    "plt.xlabel('models')\n",
    "plt.ylabel('F1-Score')\n",
    "plt.xticks(rotation=90)"
   ]
  },
  {
   "cell_type": "code",
   "execution_count": 33,
   "metadata": {},
   "outputs": [],
   "source": [
    "# Plot the accuracy scores of all the models and evaluate the results\n",
    "models = [\"NaiveBayes(CV)\", \"LogisticReg(CV)\", \"LinearSVC(CV)\", \"RandomForest(CV)\",\n",
    "          \"NaiveBayes(TV)\",  \"LogisticReg(TV)\", \"LinearSVC(TV)\", \"RandomForest(TV)\", \n",
    "          \"NeuralNetwork\", \"NN with LSTM\"]\n",
    "accuracy = [50.891, 50.986, 51.226, 50.145, 61.102, 61.697, 64.365, 63.037, 62.85, 67.37]"
   ]
  },
  {
   "cell_type": "code",
   "execution_count": 34,
   "metadata": {},
   "outputs": [
    {
     "data": {
      "text/plain": [
       "(array([0, 1, 2, 3, 4, 5, 6, 7, 8, 9]), <a list of 10 Text xticklabel objects>)"
      ]
     },
     "execution_count": 34,
     "metadata": {},
     "output_type": "execute_result"
    },
    {
     "data": {
      "image/png": "[encoded data removed]",
      "text/plain": [
       "<Figure size 432x360 with 1 Axes>"
      ]
     },
     "metadata": {},
     "output_type": "display_data"
    }
   ],
   "source": [
    "x = np.array(models)\n",
    "y = np.array(accuracy)\n",
    "plt.figure(figsize=(6,5))\n",
    "sns.barplot(x,y)\n",
    "plt.title('Plot of Model Accuracy')\n",
    "plt.xlabel('Models')\n",
    "plt.ylabel('Accuracy')\n",
    "plt.xticks(rotation=90)"
   ]
  },
  {
   "cell_type": "markdown",
   "metadata": {},
   "source": [
    "#### Some key Observations:\n",
    "  1. Benchmark Model, Naive Bayes with Count Vectorizer, had an accuracy of 50.89%. The best model in this study was Neural Networks with LSTM which had a 67.37% accuracy. This was a improvement of about 32.4% from the benchmark model.\n",
    "  2. It also has about 5.9% better accuracy than the best Supervised model and about 8.9% better accuracy than the best Neural Network Model found in this study.\n",
    "  3. It was observed that Data preprocessed with TfIdfVectorizer performed much better in all the Supervised Learning Algorithms as compared to the CountVectorizer. The accuracy was better by about 10%. The F1-score was also better. \n",
    "  4. Neural Networks did not do better. In fact LinearSVC gave a better accuracy.\n",
    "  5. Also tried many different variations of CNN with Conv1D and MaxPool1D but got very comparable accuracies. So they were not included here in the study. \n",
    "  6. LSTM gave the best accuracy, which could be increased by some more parameter tuning."
   ]
  },
  {
   "cell_type": "markdown",
   "metadata": {},
   "source": [
    "### Key Results\n",
    "\n",
    "1. An improvement of about 32.4% in accuracy score was achieved using Neural Networks with LSTM over the Benchmark model of NaiveBayes.\n",
    "2. Based on the above study it can be said that Neural Networks using the memory retention power of LSTMs is the best model for Sentiment Analysis of a multiclass classification problem."
   ]
  },
  {
   "cell_type": "code",
   "execution_count": null,
   "metadata": {},
   "outputs": [],
   "source": []
  }
 ],
 "metadata": {
  "kernelspec": {
   "display_name": "Python 3",
   "language": "python",
   "name": "python3"
  },
  "language_info": {
   "codemirror_mode": {
    "name": "ipython",
    "version": 3
   },
   "file_extension": ".py",
   "mimetype": "text/x-python",
   "name": "python",
   "nbconvert_exporter": "python",
   "pygments_lexer": "ipython3",
   "version": "3.6.4"
  }
 },
 "nbformat": 4,
 "nbformat_minor": 2
}
